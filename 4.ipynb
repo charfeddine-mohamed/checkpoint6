import numpy as np
array1=np.array([1,2,3,4])
len1=len(array1)
array1.shape=(2,2)
array2=np.array([6,7,8,17])
len2=len(array2)
array2.shape=(2,2)
for x in array1:
    for y in array2: 
        c=array1+array2
c.shape=(1,(len1))
d=c.tolist()
print(d)
