import numpy as np
a = np. array([[1, 2], [3, 4]])
b=np. mean(a)
c=a-b
print(c)
