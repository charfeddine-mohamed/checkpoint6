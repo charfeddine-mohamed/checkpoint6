print("kammoun ya 5ra asma3 el programme hedha 7ra9li a3sabi 2 ayamet na3mel fih w it only works ken for exemple number of items fel array are 9 16 25 ...")
import numpy as np
array=np.array([1,2,3,4,5,6,7,8,9])
lens=len(array)
import math
x=int(math.sqrt(len(array)))
array.shape=(x,x)
print(array)
array.shape=(1,lens)
new=array.tolist()
lista=new[0]
sumlist=lista[0:(lens+1):(x+1)]
finaly=sum(sumlist)
print(finaly)
#/////////////////////////////////////////////////////////
import numpy as np
array=np.array([[55,25,15,8],[30,44,2,5],[11,45,77,78]])
print(array)
trace = np.trace(array)
print(trace)








