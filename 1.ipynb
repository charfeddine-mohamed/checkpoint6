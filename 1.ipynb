import numpy as np
a=np.ones((5,2))
b=a.tolist()
print(b)
