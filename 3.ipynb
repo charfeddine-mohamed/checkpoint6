import numpy as np
a = np.array([[1,2],[3,5]])
x=int(input("x : "))
print("Values bigger than",x,"are",a[a>x])
